{
 "cells": [
  {
   "cell_type": "code",
   "execution_count": 13,
   "metadata": {},
   "outputs": [],
   "source": [
    "import json\n",
    "import numpy as np\n",
    "import pandas as pd \n",
    "import spacy"
   ]
  },
  {
   "cell_type": "code",
   "execution_count": 14,
   "metadata": {},
   "outputs": [
    {
     "name": "stdout",
     "output_type": "stream",
     "text": [
      "112937\n"
     ]
    }
   ],
   "source": [
    "with open('plots.txt') as text:\n",
    "    plots = text.read().split('<EOS>')\n",
    "\n",
    "with open('titles.txt') as text:\n",
    "    titles = text.read().split('\\n')\n",
    "    \n",
    "for i in range(len(plots)):\n",
    "    plots[i] = plots[i].replace(\"\\n\", \" \").replace(\"\\'\", \"\")\n",
    "    \n",
    "df = pd.DataFrame({'titles': titles, 'plots': plots})\n",
    "df.head()\n",
    "print(len(df))"
   ]
  },
  {
   "cell_type": "markdown",
   "metadata": {},
   "source": [
    "My approach to the task is extracting the subject words from the plots with the help of spaCy package and counting the pronouns in them such as 'she', 'he', 'it' and 'they'. The plots having higher number of 'she' in comparison to 'he', 'it' and 'they' are most probably the plots having a female protagonist."
   ]
  },
  {
   "cell_type": "code",
   "execution_count": 15,
   "metadata": {},
   "outputs": [],
   "source": [
    "nlp = spacy.load(\"en_core_web_sm\")"
   ]
  },
  {
   "cell_type": "code",
   "execution_count": 16,
   "metadata": {},
   "outputs": [],
   "source": [
    "subjects = []\n",
    "for plot in plots:\n",
    "    doc = nlp(plot)\n",
    "    subject = ', '.join([tok.text.lower() for tok in doc if tok.dep_ == 'nsubj'])\n",
    "    subjects.append(subject)"
   ]
  },
  {
   "cell_type": "code",
   "execution_count": 34,
   "metadata": {},
   "outputs": [
    {
     "data": {
      "text/plain": [
       "112937"
      ]
     },
     "execution_count": 34,
     "metadata": {},
     "output_type": "execute_result"
    }
   ],
   "source": [
    "len(subjects)"
   ]
  },
  {
   "cell_type": "code",
   "execution_count": 35,
   "metadata": {},
   "outputs": [],
   "source": [
    "df['subjects'] = pd.Series(subjects).astype(str)"
   ]
  },
  {
   "cell_type": "code",
   "execution_count": 36,
   "metadata": {},
   "outputs": [],
   "source": [
    "df['she_count'] = df['subjects'].apply(lambda x: x.split(', ').count('she'))\n",
    "df['he_count'] = df['subjects'].apply(lambda x: x.split(', ').count('he'))\n",
    "df['it_count'] = df['subjects'].apply(lambda x: x.split(', ').count('it'))\n",
    "df['they_count'] = df['subjects'].apply(lambda x: x.split(', ').count('they'))"
   ]
  },
  {
   "cell_type": "code",
   "execution_count": 37,
   "metadata": {},
   "outputs": [],
   "source": [
    "df['most_she']= np.where((df['she_count'] > df['he_count']) & (df['she_count'] > df['it_count']) & (df['she_count'] > df['they_count']), 1, 0)"
   ]
  },
  {
   "cell_type": "code",
   "execution_count": 38,
   "metadata": {},
   "outputs": [],
   "source": [
    "female_protagonist = df[df['most_she'] == 1]"
   ]
  },
  {
   "cell_type": "code",
   "execution_count": 39,
   "metadata": {},
   "outputs": [
    {
     "data": {
      "text/plain": [
       "3948"
      ]
     },
     "execution_count": 39,
     "metadata": {},
     "output_type": "execute_result"
    }
   ],
   "source": [
    "len(female_protagonist)"
   ]
  },
  {
   "cell_type": "code",
   "execution_count": 40,
   "metadata": {},
   "outputs": [],
   "source": [
    "female_protagonist.to_excel('she.xlsx')"
   ]
  },
  {
   "cell_type": "markdown",
   "metadata": {},
   "source": [
    "This approach is able to catch 3948 plots possibly having the female protagonist. After a manual check in Excel, the results seemed pretty robust."
   ]
  }
 ],
 "metadata": {
  "kernelspec": {
   "display_name": "Python 3",
   "language": "python",
   "name": "python3"
  },
  "language_info": {
   "codemirror_mode": {
    "name": "ipython",
    "version": 3
   },
   "file_extension": ".py",
   "mimetype": "text/x-python",
   "name": "python",
   "nbconvert_exporter": "python",
   "pygments_lexer": "ipython3",
   "version": "3.8.5"
  }
 },
 "nbformat": 4,
 "nbformat_minor": 4
}
